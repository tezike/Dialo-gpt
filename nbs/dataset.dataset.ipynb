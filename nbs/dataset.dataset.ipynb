{
 "cells": [
  {
   "cell_type": "code",
   "execution_count": null,
   "metadata": {},
   "outputs": [],
   "source": [
    "# default_exp dataset.dataset"
   ]
  },
  {
   "cell_type": "code",
   "execution_count": null,
   "metadata": {},
   "outputs": [],
   "source": [
    "#export\n",
    "import os\n",
    "import torch\n",
    "import itertools\n",
    "import transformers\n",
    "\n",
    "import pandas as pd\n",
    "import numpy as np\n",
    "import DialoGPT.config as config"
   ]
  },
  {
   "cell_type": "code",
   "execution_count": null,
   "metadata": {},
   "outputs": [],
   "source": [
    "#export\n",
    "class DialoGPTDataset():\n",
    "    def __init__(self, df):\n",
    "        self.df = df\n",
    "        \n",
    "        self.tokenizer = config.TOKENIZER\n",
    "        \n",
    "    def __len__(self):\n",
    "        return self.df.shape[0]\n",
    "        \n",
    "    def __getitem__(self, i):\n",
    "        rows = self.df.iloc[i].values\n",
    "        \n",
    "        tokenized_rows = [self.tokenizer.encode(text + self.tokenizer.eos_token, \n",
    "                               return_tensors='pt').flatten().numpy().tolist()\n",
    "                                for text in reversed(rows)]\n",
    "        tokenized_rows = list(itertools.chain.from_iterable(tokenized_rows))\n",
    "        return {\n",
    "            'input_ids': torch.tensor(tokenized_rows, dtype=torch.long),\n",
    "            'labels': torch.tensor(tokenized_rows, dtype=torch.long)\n",
    "        }"
   ]
  },
  {
   "cell_type": "code",
   "execution_count": null,
   "metadata": {},
   "outputs": [],
   "source": [
    "#export\n",
    "df = pd.read_csv(config.DATA_PATH/'cleaned_df_with_contexts.csv')"
   ]
  },
  {
   "cell_type": "code",
   "execution_count": null,
   "metadata": {},
   "outputs": [
    {
     "data": {
      "text/html": [
       "<div>\n",
       "<style scoped>\n",
       "    .dataframe tbody tr th:only-of-type {\n",
       "        vertical-align: middle;\n",
       "    }\n",
       "\n",
       "    .dataframe tbody tr th {\n",
       "        vertical-align: top;\n",
       "    }\n",
       "\n",
       "    .dataframe thead th {\n",
       "        text-align: right;\n",
       "    }\n",
       "</style>\n",
       "<table border=\"1\" class=\"dataframe\">\n",
       "  <thead>\n",
       "    <tr style=\"text-align: right;\">\n",
       "      <th></th>\n",
       "      <th>present</th>\n",
       "      <th>context_0</th>\n",
       "      <th>context_1</th>\n",
       "      <th>context_2</th>\n",
       "      <th>context_3</th>\n",
       "      <th>context_4</th>\n",
       "      <th>context_5</th>\n",
       "      <th>context_6</th>\n",
       "      <th>context_7</th>\n",
       "      <th>context_8</th>\n",
       "    </tr>\n",
       "  </thead>\n",
       "  <tbody>\n",
       "    <tr>\n",
       "      <th>0</th>\n",
       "      <td>Morty. I had to... I had to do it. I had— I ha...</td>\n",
       "      <td>Yeah, Rick... I-it's great. Is this the surprise?</td>\n",
       "      <td>What do you think of this... flying vehicle, M...</td>\n",
       "      <td>We gotta go, gotta get outta here, come on. Go...</td>\n",
       "      <td>Ow! Ow! You're tugging me too hard!</td>\n",
       "      <td>Come on, I got a surprise for you.  Come on, h...</td>\n",
       "      <td>It's the middle of the night. What are you tal...</td>\n",
       "      <td>I got a surprise for you, Morty.</td>\n",
       "      <td>What, Rick? What’s going on?</td>\n",
       "      <td>Morty! You gotta come on. Jus'... you gotta co...</td>\n",
       "    </tr>\n",
       "    <tr>\n",
       "      <th>1</th>\n",
       "      <td>What?! A bomb?!</td>\n",
       "      <td>Morty. I had to... I had to do it. I had— I ha...</td>\n",
       "      <td>Yeah, Rick... I-it's great. Is this the surprise?</td>\n",
       "      <td>What do you think of this... flying vehicle, M...</td>\n",
       "      <td>We gotta go, gotta get outta here, come on. Go...</td>\n",
       "      <td>Ow! Ow! You're tugging me too hard!</td>\n",
       "      <td>Come on, I got a surprise for you.  Come on, h...</td>\n",
       "      <td>It's the middle of the night. What are you tal...</td>\n",
       "      <td>I got a surprise for you, Morty.</td>\n",
       "      <td>What, Rick? What’s going on?</td>\n",
       "    </tr>\n",
       "    <tr>\n",
       "      <th>2</th>\n",
       "      <td>We're gonna drop it down there just get a whol...</td>\n",
       "      <td>What?! A bomb?!</td>\n",
       "      <td>Morty. I had to... I had to do it. I had— I ha...</td>\n",
       "      <td>Yeah, Rick... I-it's great. Is this the surprise?</td>\n",
       "      <td>What do you think of this... flying vehicle, M...</td>\n",
       "      <td>We gotta go, gotta get outta here, come on. Go...</td>\n",
       "      <td>Ow! Ow! You're tugging me too hard!</td>\n",
       "      <td>Come on, I got a surprise for you.  Come on, h...</td>\n",
       "      <td>It's the middle of the night. What are you tal...</td>\n",
       "      <td>I got a surprise for you, Morty.</td>\n",
       "    </tr>\n",
       "    <tr>\n",
       "      <th>3</th>\n",
       "      <td>T-t-that's absolutely crazy!</td>\n",
       "      <td>We're gonna drop it down there just get a whol...</td>\n",
       "      <td>What?! A bomb?!</td>\n",
       "      <td>Morty. I had to... I had to do it. I had— I ha...</td>\n",
       "      <td>Yeah, Rick... I-it's great. Is this the surprise?</td>\n",
       "      <td>What do you think of this... flying vehicle, M...</td>\n",
       "      <td>We gotta go, gotta get outta here, come on. Go...</td>\n",
       "      <td>Ow! Ow! You're tugging me too hard!</td>\n",
       "      <td>Come on, I got a surprise for you.  Come on, h...</td>\n",
       "      <td>It's the middle of the night. What are you tal...</td>\n",
       "    </tr>\n",
       "    <tr>\n",
       "      <th>4</th>\n",
       "      <td>Come on, Morty. Just take it easy, Morty. It's...</td>\n",
       "      <td>T-t-that's absolutely crazy!</td>\n",
       "      <td>We're gonna drop it down there just get a whol...</td>\n",
       "      <td>What?! A bomb?!</td>\n",
       "      <td>Morty. I had to... I had to do it. I had— I ha...</td>\n",
       "      <td>Yeah, Rick... I-it's great. Is this the surprise?</td>\n",
       "      <td>What do you think of this... flying vehicle, M...</td>\n",
       "      <td>We gotta go, gotta get outta here, come on. Go...</td>\n",
       "      <td>Ow! Ow! You're tugging me too hard!</td>\n",
       "      <td>Come on, I got a surprise for you.  Come on, h...</td>\n",
       "    </tr>\n",
       "  </tbody>\n",
       "</table>\n",
       "</div>"
      ],
      "text/plain": [
       "                                             present  ...                                          context_8\n",
       "0  Morty. I had to... I had to do it. I had— I ha...  ...  Morty! You gotta come on. Jus'... you gotta co...\n",
       "1                                    What?! A bomb?!  ...                       What, Rick? What’s going on?\n",
       "2  We're gonna drop it down there just get a whol...  ...                   I got a surprise for you, Morty.\n",
       "3                       T-t-that's absolutely crazy!  ...  It's the middle of the night. What are you tal...\n",
       "4  Come on, Morty. Just take it easy, Morty. It's...  ...  Come on, I got a surprise for you.  Come on, h...\n",
       "\n",
       "[5 rows x 10 columns]"
      ]
     },
     "execution_count": null,
     "metadata": {},
     "output_type": "execute_result"
    }
   ],
   "source": [
    "#hide\n",
    "df.head()"
   ]
  },
  {
   "cell_type": "code",
   "execution_count": null,
   "metadata": {},
   "outputs": [
    {
     "data": {
      "text/plain": [
       "array(['Morty. I had to... I had to do it. I had— I had to— I had to make a bomb, Morty. I had to create a bomb.',\n",
       "       \"Yeah, Rick... I-it's great. Is this the surprise?\",\n",
       "       'What do you think of this... flying vehicle, Morty? I built it outta stuff I found in the garage.',\n",
       "       'We gotta go, gotta get outta here, come on. Got a surprise for you Morty.',\n",
       "       \"Ow! Ow! You're tugging me too hard!\",\n",
       "       'Come on, I got a surprise for you.  Come on, hurry up.',\n",
       "       \"It's the middle of the night. What are you talking about?\",\n",
       "       'I got a surprise for you, Morty.', 'What, Rick? What’s going on?',\n",
       "       \"Morty! You gotta come on. Jus'... you gotta come with me.\"],\n",
       "      dtype=object)"
      ]
     },
     "execution_count": null,
     "metadata": {},
     "output_type": "execute_result"
    }
   ],
   "source": [
    "#hide\n",
    "df.iloc[0].values"
   ]
  },
  {
   "cell_type": "code",
   "execution_count": null,
   "metadata": {},
   "outputs": [
    {
     "data": {
      "text/plain": [
       "[\"Morty! You gotta come on. Jus'... you gotta come with me.\",\n",
       " 'What, Rick? What’s going on?',\n",
       " 'I got a surprise for you, Morty.',\n",
       " \"It's the middle of the night. What are you talking about?\",\n",
       " 'Come on, I got a surprise for you.  Come on, hurry up.',\n",
       " \"Ow! Ow! You're tugging me too hard!\",\n",
       " 'We gotta go, gotta get outta here, come on. Got a surprise for you Morty.',\n",
       " 'What do you think of this... flying vehicle, Morty? I built it outta stuff I found in the garage.',\n",
       " \"Yeah, Rick... I-it's great. Is this the surprise?\",\n",
       " 'Morty. I had to... I had to do it. I had— I had to— I had to make a bomb, Morty. I had to create a bomb.']"
      ]
     },
     "execution_count": null,
     "metadata": {},
     "output_type": "execute_result"
    }
   ],
   "source": [
    "#hide\n",
    "[i for i in reversed(df.iloc[0].values)]"
   ]
  },
  {
   "cell_type": "code",
   "execution_count": null,
   "metadata": {},
   "outputs": [],
   "source": []
  },
  {
   "cell_type": "code",
   "execution_count": null,
   "metadata": {},
   "outputs": [],
   "source": [
    "#hide\n",
    "d = DialoGPTDataset(df)"
   ]
  },
  {
   "cell_type": "code",
   "execution_count": null,
   "metadata": {},
   "outputs": [
    {
     "data": {
      "text/plain": [
       "{'input_ids': tensor([   44,   419,    88,     0,   921, 17753,  1282,   319,    13,   449,\n",
       "           385,     6,   986,   345, 17753,  1282,   351,   502,    13, 50256,\n",
       "          2061,    11,  8759,    30,  1867,   447,   247,    82,  1016,   319,\n",
       "            30, 50256,    40,  1392,   257,  5975,   329,   345,    11, 30395,\n",
       "            13, 50256,  1026,   338,   262,  3504,   286,   262,  1755,    13,\n",
       "          1867,   389,   345,  3375,   546,    30, 50256, 16773,   319,    11,\n",
       "           314,  1392,   257,  5975,   329,   345,    13,   220,  7911,   319,\n",
       "            11, 23290,   510,    13, 50256,    46,    86,     0, 11960,     0,\n",
       "           921,   821, 27762,  2667,   502,  1165,  1327,     0, 50256,  1135,\n",
       "         17753,   467,    11, 17753,   651,   503,  8326,   994,    11,  1282,\n",
       "           319,    13, 11853,   257,  5975,   329,   345, 30395,    13, 50256,\n",
       "          2061,   466,   345,   892,   286,   428,   986,  7348,  4038,    11,\n",
       "         30395,    30,   314,  3170,   340,   503,  8326,  3404,   314,  1043,\n",
       "           287,   262, 15591,    13, 50256, 10995,    11,  8759,   986,   314,\n",
       "            12,   270,   338,  1049,    13,  1148,   428,   262,  5975,    30,\n",
       "         50256,    44,   419,    88,    13,   314,   550,   284,   986,   314,\n",
       "           550,   284,   466,   340,    13,   314,   550,   960,   314,   550,\n",
       "           284,   960,   314,   550,   284,   787,   257,  5194,    11, 30395,\n",
       "            13,   314,   550,   284,  2251,   257,  5194,    13, 50256]),\n",
       " 'labels': tensor([   44,   419,    88,     0,   921, 17753,  1282,   319,    13,   449,\n",
       "           385,     6,   986,   345, 17753,  1282,   351,   502,    13, 50256,\n",
       "          2061,    11,  8759,    30,  1867,   447,   247,    82,  1016,   319,\n",
       "            30, 50256,    40,  1392,   257,  5975,   329,   345,    11, 30395,\n",
       "            13, 50256,  1026,   338,   262,  3504,   286,   262,  1755,    13,\n",
       "          1867,   389,   345,  3375,   546,    30, 50256, 16773,   319,    11,\n",
       "           314,  1392,   257,  5975,   329,   345,    13,   220,  7911,   319,\n",
       "            11, 23290,   510,    13, 50256,    46,    86,     0, 11960,     0,\n",
       "           921,   821, 27762,  2667,   502,  1165,  1327,     0, 50256,  1135,\n",
       "         17753,   467,    11, 17753,   651,   503,  8326,   994,    11,  1282,\n",
       "           319,    13, 11853,   257,  5975,   329,   345, 30395,    13, 50256,\n",
       "          2061,   466,   345,   892,   286,   428,   986,  7348,  4038,    11,\n",
       "         30395,    30,   314,  3170,   340,   503,  8326,  3404,   314,  1043,\n",
       "           287,   262, 15591,    13, 50256, 10995,    11,  8759,   986,   314,\n",
       "            12,   270,   338,  1049,    13,  1148,   428,   262,  5975,    30,\n",
       "         50256,    44,   419,    88,    13,   314,   550,   284,   986,   314,\n",
       "           550,   284,   466,   340,    13,   314,   550,   960,   314,   550,\n",
       "           284,   960,   314,   550,   284,   787,   257,  5194,    11, 30395,\n",
       "            13,   314,   550,   284,  2251,   257,  5194,    13, 50256])}"
      ]
     },
     "execution_count": null,
     "metadata": {},
     "output_type": "execute_result"
    }
   ],
   "source": [
    "#hide\n",
    "d[0]"
   ]
  },
  {
   "cell_type": "code",
   "execution_count": null,
   "metadata": {},
   "outputs": [],
   "source": [
    "import DialoGPT.model.model as model"
   ]
  },
  {
   "cell_type": "code",
   "execution_count": null,
   "metadata": {},
   "outputs": [],
   "source": [
    "#export\n",
    "import torch\n",
    "import torch.nn as nn\n",
    "import transformers\n",
    "\n",
    "import DialoGPT.config as config"
   ]
  },
  {
   "cell_type": "code",
   "execution_count": null,
   "metadata": {},
   "outputs": [],
   "source": [
    "model = transformers.AutoModelForCausalLM.from_pretrained(config.MODEL_NAME)"
   ]
  },
  {
   "cell_type": "code",
   "execution_count": null,
   "metadata": {},
   "outputs": [],
   "source": [
    "model??"
   ]
  },
  {
   "cell_type": "code",
   "execution_count": null,
   "metadata": {},
   "outputs": [],
   "source": [
    "#export\n",
    "class DialoGPTModel(nn.Module):\n",
    "    def __init__(self):\n",
    "        super().__init__()\n",
    "        self.model = transformers.AutoModelForCausalLM.from_pretrained(config.MODEL_NAME)\n",
    "    \n",
    "    def forward(input_ids, labels):\n",
    "#         input_ids = past_key_values = (batch_size, sequence_length)\n",
    "#         NB: The labels are shifted automatically inside the model so labels can be equal to input_ids\n",
    "        out = self.model(input_ids=input_ids, labels=labels)\n",
    "        return out"
   ]
  },
  {
   "cell_type": "code",
   "execution_count": null,
   "metadata": {},
   "outputs": [],
   "source": [
    "#hide\n",
    "modeller = DialoGPTModel()"
   ]
  },
  {
   "cell_type": "code",
   "execution_count": null,
   "metadata": {},
   "outputs": [],
   "source": [
    "modeller"
   ]
  },
  {
   "cell_type": "code",
   "execution_count": null,
   "metadata": {},
   "outputs": [],
   "source": [
    "dl = torch.utils.data.DataLoader(d, batch_size=1)"
   ]
  },
  {
   "cell_type": "code",
   "execution_count": null,
   "metadata": {},
   "outputs": [
    {
     "name": "stdout",
     "output_type": "stream",
     "text": [
      "tensor([[   44,   419,    88,     0,   921, 17753,  1282,   319,    13,   449,\n",
      "           385,     6,   986,   345, 17753,  1282,   351,   502,    13, 50256,\n",
      "          2061,    11,  8759,    30,  1867,   447,   247,    82,  1016,   319,\n",
      "            30, 50256,    40,  1392,   257,  5975,   329,   345,    11, 30395,\n",
      "            13, 50256,  1026,   338,   262,  3504,   286,   262,  1755,    13,\n",
      "          1867,   389,   345,  3375,   546,    30, 50256, 16773,   319,    11,\n",
      "           314,  1392,   257,  5975,   329,   345,    13,   220,  7911,   319,\n",
      "            11, 23290,   510,    13, 50256,    46,    86,     0, 11960,     0,\n",
      "           921,   821, 27762,  2667,   502,  1165,  1327,     0, 50256,  1135,\n",
      "         17753,   467,    11, 17753,   651,   503,  8326,   994,    11,  1282,\n",
      "           319,    13, 11853,   257,  5975,   329,   345, 30395,    13, 50256,\n",
      "          2061,   466,   345,   892,   286,   428,   986,  7348,  4038,    11,\n",
      "         30395,    30,   314,  3170,   340,   503,  8326,  3404,   314,  1043,\n",
      "           287,   262, 15591,    13, 50256, 10995,    11,  8759,   986,   314,\n",
      "            12,   270,   338,  1049,    13,  1148,   428,   262,  5975,    30,\n",
      "         50256,    44,   419,    88,    13,   314,   550,   284,   986,   314,\n",
      "           550,   284,   466,   340,    13,   314,   550,   960,   314,   550,\n",
      "           284,   960,   314,   550,   284,   787,   257,  5194,    11, 30395,\n",
      "            13,   314,   550,   284,  2251,   257,  5194,    13, 50256]])\n"
     ]
    },
    {
     "ename": "TypeError",
     "evalue": "forward() got multiple values for argument 'input_ids'",
     "output_type": "error",
     "traceback": [
      "\u001b[0;31m---------------------------------------------------------------------------\u001b[0m",
      "\u001b[0;31mTypeError\u001b[0m                                 Traceback (most recent call last)",
      "\u001b[0;32m<ipython-input-40-77c86492d95d>\u001b[0m in \u001b[0;36m<module>\u001b[0;34m()\u001b[0m\n\u001b[1;32m      3\u001b[0m     \u001b[0mprint\u001b[0m\u001b[0;34m(\u001b[0m\u001b[0mbatch\u001b[0m\u001b[0;34m[\u001b[0m\u001b[0;34m'input_ids'\u001b[0m\u001b[0;34m]\u001b[0m\u001b[0;34m)\u001b[0m\u001b[0;34m\u001b[0m\u001b[0;34m\u001b[0m\u001b[0m\n\u001b[1;32m      4\u001b[0m     \u001b[0;32mwith\u001b[0m \u001b[0mtorch\u001b[0m\u001b[0;34m.\u001b[0m\u001b[0mno_grad\u001b[0m\u001b[0;34m(\u001b[0m\u001b[0;34m)\u001b[0m\u001b[0;34m:\u001b[0m\u001b[0;34m\u001b[0m\u001b[0;34m\u001b[0m\u001b[0m\n\u001b[0;32m----> 5\u001b[0;31m         \u001b[0mout\u001b[0m \u001b[0;34m=\u001b[0m \u001b[0mmodeller\u001b[0m\u001b[0;34m(\u001b[0m\u001b[0minput_ids\u001b[0m\u001b[0;34m=\u001b[0m\u001b[0mbatch\u001b[0m\u001b[0;34m[\u001b[0m\u001b[0;34m'input_ids'\u001b[0m\u001b[0;34m]\u001b[0m\u001b[0;34m)\u001b[0m\u001b[0;34m\u001b[0m\u001b[0;34m\u001b[0m\u001b[0m\n\u001b[0m",
      "\u001b[0;32m/usr/local/lib/python3.6/dist-packages/torch/nn/modules/module.py\u001b[0m in \u001b[0;36m_call_impl\u001b[0;34m(self, *input, **kwargs)\u001b[0m\n\u001b[1;32m    720\u001b[0m             \u001b[0mresult\u001b[0m \u001b[0;34m=\u001b[0m \u001b[0mself\u001b[0m\u001b[0;34m.\u001b[0m\u001b[0m_slow_forward\u001b[0m\u001b[0;34m(\u001b[0m\u001b[0;34m*\u001b[0m\u001b[0minput\u001b[0m\u001b[0;34m,\u001b[0m \u001b[0;34m**\u001b[0m\u001b[0mkwargs\u001b[0m\u001b[0;34m)\u001b[0m\u001b[0;34m\u001b[0m\u001b[0;34m\u001b[0m\u001b[0m\n\u001b[1;32m    721\u001b[0m         \u001b[0;32melse\u001b[0m\u001b[0;34m:\u001b[0m\u001b[0;34m\u001b[0m\u001b[0;34m\u001b[0m\u001b[0m\n\u001b[0;32m--> 722\u001b[0;31m             \u001b[0mresult\u001b[0m \u001b[0;34m=\u001b[0m \u001b[0mself\u001b[0m\u001b[0;34m.\u001b[0m\u001b[0mforward\u001b[0m\u001b[0;34m(\u001b[0m\u001b[0;34m*\u001b[0m\u001b[0minput\u001b[0m\u001b[0;34m,\u001b[0m \u001b[0;34m**\u001b[0m\u001b[0mkwargs\u001b[0m\u001b[0;34m)\u001b[0m\u001b[0;34m\u001b[0m\u001b[0;34m\u001b[0m\u001b[0m\n\u001b[0m\u001b[1;32m    723\u001b[0m         for hook in itertools.chain(\n\u001b[1;32m    724\u001b[0m                 \u001b[0m_global_forward_hooks\u001b[0m\u001b[0;34m.\u001b[0m\u001b[0mvalues\u001b[0m\u001b[0;34m(\u001b[0m\u001b[0;34m)\u001b[0m\u001b[0;34m,\u001b[0m\u001b[0;34m\u001b[0m\u001b[0;34m\u001b[0m\u001b[0m\n",
      "\u001b[0;31mTypeError\u001b[0m: forward() got multiple values for argument 'input_ids'"
     ]
    }
   ],
   "source": [
    "modeller.eval()\n",
    "for batch in dl:\n",
    "    with torch.no_grad():\n",
    "        out = modeller(input_ids=batch['input_ids'], labels= batch['labels'])"
   ]
  },
  {
   "cell_type": "code",
   "execution_count": null,
   "metadata": {},
   "outputs": [],
   "source": [
    "modeller??"
   ]
  },
  {
   "cell_type": "code",
   "execution_count": null,
   "metadata": {},
   "outputs": [],
   "source": []
  }
 ],
 "metadata": {
  "kernelspec": {
   "display_name": "Python 3",
   "language": "python",
   "name": "python3"
  }
 },
 "nbformat": 4,
 "nbformat_minor": 2
}
